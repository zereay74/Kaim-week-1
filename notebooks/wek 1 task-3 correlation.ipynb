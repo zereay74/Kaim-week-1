{
 "cells": [
  {
   "cell_type": "markdown",
   "metadata": {},
   "source": [
    "# Correlation between news and stock movement"
   ]
  },
  {
   "cell_type": "markdown",
   "metadata": {},
   "source": [
    "# 0. Imports"
   ]
  },
  {
   "cell_type": "code",
   "execution_count": 1,
   "metadata": {},
   "outputs": [],
   "source": [
    "import os \n",
    "import sys\n",
    "import pandas as pd\n",
    "import yfinance as yf\n",
    "import plotly as px"
   ]
  },
  {
   "cell_type": "code",
   "execution_count": 10,
   "metadata": {},
   "outputs": [
    {
     "name": "stdout",
     "output_type": "stream",
     "text": [
      "c:\\ML and DS Files\\Kifiya AI\\Kaim-week-1\\notebooks\n",
      "c:\\ML and DS Files\\Kifiya AI\\Kaim-week-1\n"
     ]
    }
   ],
   "source": [
    "current_dir = os.getcwd()\n",
    "print(current_dir)\n",
    "\n",
    "parent_dir = os.path.dirname(current_dir)\n",
    "print(parent_dir)\n",
    "\n",
    "sys.path.insert(0,parent_dir)"
   ]
  },
  {
   "cell_type": "code",
   "execution_count": 15,
   "metadata": {},
   "outputs": [],
   "source": [
    "# Get the current working directory (notebooks folder)\n",
    "notebooks_dir = os.getcwd()\n",
    "\n",
    "# Construct the path to the scripts folder\n",
    "scripts_path = os.path.join(notebooks_dir, '..', 'scripts')\n",
    "\n",
    "# Add the scripts folder to the system path\n",
    "sys.path.append(scripts_path)"
   ]
  },
  {
   "cell_type": "code",
   "execution_count": 96,
   "metadata": {},
   "outputs": [
    {
     "data": {
      "text/plain": [
       "<module 'data_visualization' from 'c:\\\\ML and DS Files\\\\Kifiya AI\\\\Kaim-week-1\\\\notebooks\\\\..\\\\scripts\\\\data_visualization.py'>"
      ]
     },
     "execution_count": 96,
     "metadata": {},
     "output_type": "execute_result"
    }
   ],
   "source": [
    "from importlib import reload\n",
    "import analysis\n",
    "import data_visualization\n",
    "import scripts.financial_analysis\n",
    "reload(scripts.financial_analysis)\n",
    "reload(analysis)\n",
    "reload(data_visualization)"
   ]
  },
  {
   "cell_type": "code",
   "execution_count": 98,
   "metadata": {},
   "outputs": [],
   "source": [
    "from scripts.data_loader import DataLoader\n",
    "from scripts.financial_analysis import StockAnalysis, CorrelationAnalysis, FinancialVisualizer\n",
    "from analysis import  check_missing_value, headline_length_check, count_and_sort, convert_date, extract_date, perform_sentiment_analysis, nlp_keyword_topic_analysis, extract_keywords, analyze_top_publishers, classify_article_topic\n",
    "from data_visualization import plot_univarate, plot_bivariate\n"
   ]
  },
  {
   "cell_type": "markdown",
   "metadata": {},
   "source": [
    "# 1. Load data"
   ]
  },
  {
   "cell_type": "code",
   "execution_count": 24,
   "metadata": {},
   "outputs": [
    {
     "name": "stdout",
     "output_type": "stream",
     "text": [
      "Data successfully loaded from C:\\ML and DS Files\\Kifiya AI\\Kaim-week-1\\week 1 data\\Data\\raw_analyst_ratings\\raw_analyst_ratings.csv\n"
     ]
    }
   ],
   "source": [
    "# news data\n",
    "file_path = r\"C:\\ML and DS Files\\Kifiya AI\\Kaim-week-1\\week 1 data\\Data\\raw_analyst_ratings\\raw_analyst_ratings.csv\"\n",
    "loader = DataLoader(file_path)\n",
    "news_data = loader.load_data()"
   ]
  },
  {
   "cell_type": "code",
   "execution_count": null,
   "metadata": {},
   "outputs": [
    {
     "name": "stdout",
     "output_type": "stream",
     "text": [
      "Data successfully loaded from C:\\ML and DS Files\\Kifiya AI\\Kaim-week-1\\week 1 data\\Data\\yfinance_data\\AMZN_historical_data.csv\n"
     ]
    }
   ],
   "source": [
    "# Stock Price Data\n",
    "file_path = r\"C:\\ML and DS Files\\Kifiya AI\\Kaim-week-1\\week 1 data\\Data\\yfinance_data\\AMZN_historical_data.csv\"\n",
    "loader = DataLoader(file_path)\n",
    "stock_price_data = loader.load_data()"
   ]
  },
  {
   "cell_type": "code",
   "execution_count": 80,
   "metadata": {},
   "outputs": [
    {
     "name": "stdout",
     "output_type": "stream",
     "text": [
      "(1407328, 6) (6846, 9)\n"
     ]
    }
   ],
   "source": [
    "print(news_data.shape, stock_price_data.shape)"
   ]
  },
  {
   "cell_type": "markdown",
   "metadata": {},
   "source": [
    "#### 1.1 Date aliignment (Normalizing)"
   ]
  },
  {
   "cell_type": "code",
   "execution_count": null,
   "metadata": {},
   "outputs": [],
   "source": [
    "# Convert news data date (since it has different formatting it is complex so lets use a function)\n",
    "convert_date(news_data, 'date')"
   ]
  },
  {
   "cell_type": "code",
   "execution_count": 39,
   "metadata": {},
   "outputs": [],
   "source": [
    "# convert stock price data date\n",
    "stock_price_data['Date'] = pd.to_datetime(stock_price_data['Date'], format='%Y-%m-%d')"
   ]
  },
  {
   "cell_type": "code",
   "execution_count": 44,
   "metadata": {},
   "outputs": [],
   "source": [
    "# rename column 'Date' to 'date'\n",
    "stock_price_data = stock_price_data.rename(columns={'Date': 'date'})"
   ]
  },
  {
   "cell_type": "code",
   "execution_count": 45,
   "metadata": {},
   "outputs": [
    {
     "data": {
      "text/html": [
       "<div>\n",
       "<style scoped>\n",
       "    .dataframe tbody tr th:only-of-type {\n",
       "        vertical-align: middle;\n",
       "    }\n",
       "\n",
       "    .dataframe tbody tr th {\n",
       "        vertical-align: top;\n",
       "    }\n",
       "\n",
       "    .dataframe thead th {\n",
       "        text-align: right;\n",
       "    }\n",
       "</style>\n",
       "<table border=\"1\" class=\"dataframe\">\n",
       "  <thead>\n",
       "    <tr style=\"text-align: right;\">\n",
       "      <th></th>\n",
       "      <th>date</th>\n",
       "      <th>Open</th>\n",
       "      <th>High</th>\n",
       "      <th>Low</th>\n",
       "      <th>Close</th>\n",
       "      <th>Adj Close</th>\n",
       "      <th>Volume</th>\n",
       "      <th>Dividends</th>\n",
       "      <th>Stock Splits</th>\n",
       "    </tr>\n",
       "  </thead>\n",
       "  <tbody>\n",
       "    <tr>\n",
       "      <th>0</th>\n",
       "      <td>1997-05-15</td>\n",
       "      <td>0.121875</td>\n",
       "      <td>0.125</td>\n",
       "      <td>0.096354</td>\n",
       "      <td>0.097917</td>\n",
       "      <td>0.097917</td>\n",
       "      <td>1443120000</td>\n",
       "      <td>0.0</td>\n",
       "      <td>0.0</td>\n",
       "    </tr>\n",
       "  </tbody>\n",
       "</table>\n",
       "</div>"
      ],
      "text/plain": [
       "        date      Open   High       Low     Close  Adj Close      Volume  \\\n",
       "0 1997-05-15  0.121875  0.125  0.096354  0.097917   0.097917  1443120000   \n",
       "\n",
       "   Dividends  Stock Splits  \n",
       "0        0.0           0.0  "
      ]
     },
     "execution_count": 45,
     "metadata": {},
     "output_type": "execute_result"
    }
   ],
   "source": [
    "stock_price_data.head(1)"
   ]
  },
  {
   "cell_type": "code",
   "execution_count": 52,
   "metadata": {},
   "outputs": [
    {
     "data": {
      "text/html": [
       "<div>\n",
       "<style scoped>\n",
       "    .dataframe tbody tr th:only-of-type {\n",
       "        vertical-align: middle;\n",
       "    }\n",
       "\n",
       "    .dataframe tbody tr th {\n",
       "        vertical-align: top;\n",
       "    }\n",
       "\n",
       "    .dataframe thead th {\n",
       "        text-align: right;\n",
       "    }\n",
       "</style>\n",
       "<table border=\"1\" class=\"dataframe\">\n",
       "  <thead>\n",
       "    <tr style=\"text-align: right;\">\n",
       "      <th></th>\n",
       "      <th>Unnamed: 0</th>\n",
       "      <th>headline</th>\n",
       "      <th>url</th>\n",
       "      <th>publisher</th>\n",
       "      <th>date</th>\n",
       "      <th>stock</th>\n",
       "    </tr>\n",
       "  </thead>\n",
       "  <tbody>\n",
       "    <tr>\n",
       "      <th>0</th>\n",
       "      <td>0</td>\n",
       "      <td>Stocks That Hit 52-Week Highs On Friday</td>\n",
       "      <td>https://www.benzinga.com/news/20/06/16190091/s...</td>\n",
       "      <td>Benzinga Insights</td>\n",
       "      <td>2020-06-05</td>\n",
       "      <td>A</td>\n",
       "    </tr>\n",
       "  </tbody>\n",
       "</table>\n",
       "</div>"
      ],
      "text/plain": [
       "   Unnamed: 0                                 headline  \\\n",
       "0           0  Stocks That Hit 52-Week Highs On Friday   \n",
       "\n",
       "                                                 url          publisher  \\\n",
       "0  https://www.benzinga.com/news/20/06/16190091/s...  Benzinga Insights   \n",
       "\n",
       "        date stock  \n",
       "0 2020-06-05     A  "
      ]
     },
     "execution_count": 52,
     "metadata": {},
     "output_type": "execute_result"
    }
   ],
   "source": [
    "# Convert news_data timestamp to date-only format\n",
    "news_data['date'] = pd.to_datetime(news_data['date']).dt.normalize()\n",
    "news_data.head(1)"
   ]
  },
  {
   "cell_type": "code",
   "execution_count": 48,
   "metadata": {},
   "outputs": [
    {
     "data": {
      "text/plain": [
       "date            datetime64[ns]\n",
       "Open                   float64\n",
       "High                   float64\n",
       "Low                    float64\n",
       "Close                  float64\n",
       "Adj Close              float64\n",
       "Volume                   int64\n",
       "Dividends              float64\n",
       "Stock Splits           float64\n",
       "dtype: object"
      ]
     },
     "execution_count": 48,
     "metadata": {},
     "output_type": "execute_result"
    }
   ],
   "source": [
    "stock_price_data.dtypes"
   ]
  },
  {
   "cell_type": "code",
   "execution_count": 53,
   "metadata": {},
   "outputs": [
    {
     "data": {
      "text/plain": [
       "Unnamed: 0             int64\n",
       "headline              object\n",
       "url                   object\n",
       "publisher             object\n",
       "date          datetime64[ns]\n",
       "stock                 object\n",
       "dtype: object"
      ]
     },
     "execution_count": 53,
     "metadata": {},
     "output_type": "execute_result"
    }
   ],
   "source": [
    "news_data.dtypes"
   ]
  },
  {
   "cell_type": "code",
   "execution_count": null,
   "metadata": {},
   "outputs": [],
   "source": [
    "'''\n",
    "on='date': Ensures rows are matched based on the 'date' column.\n",
    "how='inner': Ensures only matching dates are included.\n",
    "Any additional columns from news_data and stock_price_data are combined into the resulting DataFrame.\n",
    "'''"
   ]
  },
  {
   "cell_type": "code",
   "execution_count": 56,
   "metadata": {},
   "outputs": [],
   "source": [
    "aligned_data = pd.merge(news_data, stock_price_data, on='date', how='inner')"
   ]
  },
  {
   "cell_type": "code",
   "execution_count": 82,
   "metadata": {},
   "outputs": [
    {
     "data": {
      "text/plain": [
       "(1379682, 14)"
      ]
     },
     "execution_count": 82,
     "metadata": {},
     "output_type": "execute_result"
    }
   ],
   "source": [
    "aligned_data.shape"
   ]
  },
  {
   "cell_type": "code",
   "execution_count": 63,
   "metadata": {},
   "outputs": [
    {
     "data": {
      "text/html": [
       "<div>\n",
       "<style scoped>\n",
       "    .dataframe tbody tr th:only-of-type {\n",
       "        vertical-align: middle;\n",
       "    }\n",
       "\n",
       "    .dataframe tbody tr th {\n",
       "        vertical-align: top;\n",
       "    }\n",
       "\n",
       "    .dataframe thead th {\n",
       "        text-align: right;\n",
       "    }\n",
       "</style>\n",
       "<table border=\"1\" class=\"dataframe\">\n",
       "  <thead>\n",
       "    <tr style=\"text-align: right;\">\n",
       "      <th></th>\n",
       "      <th>Unnamed: 0</th>\n",
       "      <th>headline</th>\n",
       "      <th>url</th>\n",
       "      <th>publisher</th>\n",
       "      <th>date</th>\n",
       "      <th>stock</th>\n",
       "      <th>Open</th>\n",
       "      <th>High</th>\n",
       "      <th>Low</th>\n",
       "      <th>Close</th>\n",
       "      <th>Adj Close</th>\n",
       "      <th>Volume</th>\n",
       "      <th>Dividends</th>\n",
       "      <th>Stock Splits</th>\n",
       "    </tr>\n",
       "  </thead>\n",
       "  <tbody>\n",
       "    <tr>\n",
       "      <th>0</th>\n",
       "      <td>0</td>\n",
       "      <td>Stocks That Hit 52-Week Highs On Friday</td>\n",
       "      <td>https://www.benzinga.com/news/20/06/16190091/s...</td>\n",
       "      <td>Benzinga Insights</td>\n",
       "      <td>2020-06-05</td>\n",
       "      <td>A</td>\n",
       "      <td>122.225502</td>\n",
       "      <td>124.432503</td>\n",
       "      <td>121.856499</td>\n",
       "      <td>124.150002</td>\n",
       "      <td>124.150002</td>\n",
       "      <td>66128000</td>\n",
       "      <td>0.0</td>\n",
       "      <td>0.0</td>\n",
       "    </tr>\n",
       "    <tr>\n",
       "      <th>1</th>\n",
       "      <td>1</td>\n",
       "      <td>Stocks That Hit 52-Week Highs On Wednesday</td>\n",
       "      <td>https://www.benzinga.com/news/20/06/16170189/s...</td>\n",
       "      <td>Benzinga Insights</td>\n",
       "      <td>2020-06-03</td>\n",
       "      <td>A</td>\n",
       "      <td>123.400497</td>\n",
       "      <td>124.400002</td>\n",
       "      <td>123.058502</td>\n",
       "      <td>123.919998</td>\n",
       "      <td>123.919998</td>\n",
       "      <td>53420000</td>\n",
       "      <td>0.0</td>\n",
       "      <td>0.0</td>\n",
       "    </tr>\n",
       "  </tbody>\n",
       "</table>\n",
       "</div>"
      ],
      "text/plain": [
       "   Unnamed: 0                                    headline  \\\n",
       "0           0     Stocks That Hit 52-Week Highs On Friday   \n",
       "1           1  Stocks That Hit 52-Week Highs On Wednesday   \n",
       "\n",
       "                                                 url          publisher  \\\n",
       "0  https://www.benzinga.com/news/20/06/16190091/s...  Benzinga Insights   \n",
       "1  https://www.benzinga.com/news/20/06/16170189/s...  Benzinga Insights   \n",
       "\n",
       "        date stock        Open        High         Low       Close  \\\n",
       "0 2020-06-05     A  122.225502  124.432503  121.856499  124.150002   \n",
       "1 2020-06-03     A  123.400497  124.400002  123.058502  123.919998   \n",
       "\n",
       "    Adj Close    Volume  Dividends  Stock Splits  \n",
       "0  124.150002  66128000        0.0           0.0  \n",
       "1  123.919998  53420000        0.0           0.0  "
      ]
     },
     "execution_count": 63,
     "metadata": {},
     "output_type": "execute_result"
    }
   ],
   "source": [
    "aligned_data.head(2)"
   ]
  },
  {
   "cell_type": "markdown",
   "metadata": {},
   "source": [
    "# 2. Sentiment Analysis"
   ]
  },
  {
   "cell_type": "code",
   "execution_count": null,
   "metadata": {},
   "outputs": [],
   "source": [
    "data_with_sentiment = perform_sentiment_analysis(aligned_data, text_column='headline')"
   ]
  },
  {
   "cell_type": "code",
   "execution_count": 59,
   "metadata": {},
   "outputs": [
    {
     "name": "stdout",
     "output_type": "stream",
     "text": [
      "                                            headline  compound sentiment_label\n",
      "0            Stocks That Hit 52-Week Highs On Friday     0.000         neutral\n",
      "1         Stocks That Hit 52-Week Highs On Wednesday     0.000         neutral\n",
      "2                      71 Biggest Movers From Friday     0.000         neutral\n",
      "3       46 Stocks Moving In Friday's Mid-Day Session     0.000         neutral\n",
      "4  B of A Securities Maintains Neutral on Agilent...     0.296        positive\n",
      "5  CFRA Maintains Hold on Agilent Technologies, L...    -0.128        negative\n",
      "6  UBS Maintains Neutral on Agilent Technologies,...     0.000         neutral\n",
      "7  Agilent Technologies shares are trading higher...     0.296        positive\n",
      "8  Wells Fargo Maintains Overweight on Agilent Te...    -0.128        negative\n",
      "9         10 Biggest Price Target Changes For Friday     0.000         neutral\n"
     ]
    }
   ],
   "source": [
    "print(data_with_sentiment[['headline', 'compound', 'sentiment_label']].head(10))"
   ]
  },
  {
   "cell_type": "code",
   "execution_count": 64,
   "metadata": {},
   "outputs": [
    {
     "data": {
      "text/plain": [
       "Index(['Unnamed: 0', 'headline', 'url', 'publisher', 'date', 'stock', 'Open',\n",
       "       'High', 'Low', 'Close', 'Adj Close', 'Volume', 'Dividends',\n",
       "       'Stock Splits', 'neg', 'neu', 'pos', 'compound', 'sentiment_label'],\n",
       "      dtype='object')"
      ]
     },
     "execution_count": 64,
     "metadata": {},
     "output_type": "execute_result"
    }
   ],
   "source": [
    "data_with_sentiment.columns"
   ]
  },
  {
   "cell_type": "markdown",
   "metadata": {},
   "source": [
    "###### 2.1 Plots on sentimental data"
   ]
  },
  {
   "cell_type": "code",
   "execution_count": 106,
   "metadata": {},
   "outputs": [
    {
     "data": {
      "image/png": "[encoded data removed]",
      "text/plain": [
       "<Figure size 800x600 with 1 Axes>"
      ]
     },
     "metadata": {},
     "output_type": "display_data"
    }
   ],
   "source": [
    "plot_bivariate(data = data_with_sentiment, x_column='date', y_column = 'compound', plot_type='line', title='Sentiment Score vs Date',  x_axis_t='Date', y_axis_t='Sentiment Score' )"
   ]
  },
  {
   "cell_type": "markdown",
   "metadata": {},
   "source": [
    "# 3. Analysis"
   ]
  },
  {
   "cell_type": "markdown",
   "metadata": {},
   "source": [
    "#### 3.1 Stock Analysis"
   ]
  },
  {
   "cell_type": "code",
   "execution_count": null,
   "metadata": {},
   "outputs": [],
   "source": [
    "# Instantiate and process stock returns\n",
    "stock_analysis = StockAnalysis(data_with_sentiment)\n",
    "data_with_returns = stock_analysis.calculate_daily_returns()"
   ]
  },
  {
   "cell_type": "code",
   "execution_count": 69,
   "metadata": {},
   "outputs": [
    {
     "data": {
      "text/html": [
       "<div>\n",
       "<style scoped>\n",
       "    .dataframe tbody tr th:only-of-type {\n",
       "        vertical-align: middle;\n",
       "    }\n",
       "\n",
       "    .dataframe tbody tr th {\n",
       "        vertical-align: top;\n",
       "    }\n",
       "\n",
       "    .dataframe thead th {\n",
       "        text-align: right;\n",
       "    }\n",
       "</style>\n",
       "<table border=\"1\" class=\"dataframe\">\n",
       "  <thead>\n",
       "    <tr style=\"text-align: right;\">\n",
       "      <th></th>\n",
       "      <th>Unnamed: 0</th>\n",
       "      <th>headline</th>\n",
       "      <th>url</th>\n",
       "      <th>publisher</th>\n",
       "      <th>date</th>\n",
       "      <th>stock</th>\n",
       "      <th>Open</th>\n",
       "      <th>High</th>\n",
       "      <th>Low</th>\n",
       "      <th>Close</th>\n",
       "      <th>Adj Close</th>\n",
       "      <th>Volume</th>\n",
       "      <th>Dividends</th>\n",
       "      <th>Stock Splits</th>\n",
       "      <th>neg</th>\n",
       "      <th>neu</th>\n",
       "      <th>pos</th>\n",
       "      <th>compound</th>\n",
       "      <th>sentiment_label</th>\n",
       "      <th>Daily Return</th>\n",
       "    </tr>\n",
       "  </thead>\n",
       "  <tbody>\n",
       "    <tr>\n",
       "      <th>0</th>\n",
       "      <td>0</td>\n",
       "      <td>Stocks That Hit 52-Week Highs On Friday</td>\n",
       "      <td>https://www.benzinga.com/news/20/06/16190091/s...</td>\n",
       "      <td>Benzinga Insights</td>\n",
       "      <td>2020-06-05</td>\n",
       "      <td>A</td>\n",
       "      <td>122.225502</td>\n",
       "      <td>124.432503</td>\n",
       "      <td>121.856499</td>\n",
       "      <td>124.150002</td>\n",
       "      <td>124.150002</td>\n",
       "      <td>66128000</td>\n",
       "      <td>0.0</td>\n",
       "      <td>0.0</td>\n",
       "      <td>0.0</td>\n",
       "      <td>1.0</td>\n",
       "      <td>0.0</td>\n",
       "      <td>0.0</td>\n",
       "      <td>neutral</td>\n",
       "      <td>NaN</td>\n",
       "    </tr>\n",
       "    <tr>\n",
       "      <th>1</th>\n",
       "      <td>1</td>\n",
       "      <td>Stocks That Hit 52-Week Highs On Wednesday</td>\n",
       "      <td>https://www.benzinga.com/news/20/06/16170189/s...</td>\n",
       "      <td>Benzinga Insights</td>\n",
       "      <td>2020-06-03</td>\n",
       "      <td>A</td>\n",
       "      <td>123.400497</td>\n",
       "      <td>124.400002</td>\n",
       "      <td>123.058502</td>\n",
       "      <td>123.919998</td>\n",
       "      <td>123.919998</td>\n",
       "      <td>53420000</td>\n",
       "      <td>0.0</td>\n",
       "      <td>0.0</td>\n",
       "      <td>0.0</td>\n",
       "      <td>1.0</td>\n",
       "      <td>0.0</td>\n",
       "      <td>0.0</td>\n",
       "      <td>neutral</td>\n",
       "      <td>-0.185262</td>\n",
       "    </tr>\n",
       "  </tbody>\n",
       "</table>\n",
       "</div>"
      ],
      "text/plain": [
       "   Unnamed: 0                                    headline  \\\n",
       "0           0     Stocks That Hit 52-Week Highs On Friday   \n",
       "1           1  Stocks That Hit 52-Week Highs On Wednesday   \n",
       "\n",
       "                                                 url          publisher  \\\n",
       "0  https://www.benzinga.com/news/20/06/16190091/s...  Benzinga Insights   \n",
       "1  https://www.benzinga.com/news/20/06/16170189/s...  Benzinga Insights   \n",
       "\n",
       "        date stock        Open        High         Low       Close  \\\n",
       "0 2020-06-05     A  122.225502  124.432503  121.856499  124.150002   \n",
       "1 2020-06-03     A  123.400497  124.400002  123.058502  123.919998   \n",
       "\n",
       "    Adj Close    Volume  Dividends  Stock Splits  neg  neu  pos  compound  \\\n",
       "0  124.150002  66128000        0.0           0.0  0.0  1.0  0.0       0.0   \n",
       "1  123.919998  53420000        0.0           0.0  0.0  1.0  0.0       0.0   \n",
       "\n",
       "  sentiment_label  Daily Return  \n",
       "0         neutral           NaN  \n",
       "1         neutral     -0.185262  "
      ]
     },
     "execution_count": 69,
     "metadata": {},
     "output_type": "execute_result"
    }
   ],
   "source": [
    "data_with_sentiment.head(2) # daily return column added"
   ]
  },
  {
   "cell_type": "markdown",
   "metadata": {},
   "source": [
    "#### 3.2 Correlation Analysis"
   ]
  },
  {
   "cell_type": "code",
   "execution_count": 79,
   "metadata": {},
   "outputs": [
    {
     "name": "stdout",
     "output_type": "stream",
     "text": [
      "         Unnamed: 0                                           headline  \\\n",
      "0                 0            Stocks That Hit 52-Week Highs On Friday   \n",
      "1                 1         Stocks That Hit 52-Week Highs On Wednesday   \n",
      "2                 2                      71 Biggest Movers From Friday   \n",
      "3                 3       46 Stocks Moving In Friday's Mid-Day Session   \n",
      "4                 4  B of A Securities Maintains Neutral on Agilent...   \n",
      "...             ...                                                ...   \n",
      "1379677     1413844             Top Narrow Based Indexes For August 29   \n",
      "1379678     1413845  Recap: Wednesday's Top Percentage Gainers and ...   \n",
      "1379679     1413846  UPDATE: Oppenheimer Color on China Zenix Auto ...   \n",
      "1379680     1413847  Oppenheimer Initiates China Zenix At Outperfor...   \n",
      "1379681     1413848  China Zenix Auto International Opens For Tradi...   \n",
      "\n",
      "                                                       url          publisher  \\\n",
      "0        https://www.benzinga.com/news/20/06/16190091/s...  Benzinga Insights   \n",
      "1        https://www.benzinga.com/news/20/06/16170189/s...  Benzinga Insights   \n",
      "2        https://www.benzinga.com/news/20/05/16103463/7...         Lisa Levin   \n",
      "3        https://www.benzinga.com/news/20/05/16095921/4...         Lisa Levin   \n",
      "4        https://www.benzinga.com/news/20/05/16095304/b...         Vick Meyer   \n",
      "...                                                    ...                ...   \n",
      "1379677  https://www.benzinga.com/news/11/08/1888782/to...      Monica Gerson   \n",
      "1379678  https://www.benzinga.com/news/earnings/11/06/1...       Benjamin Lee   \n",
      "1379679  https://www.benzinga.com/analyst-ratings/analy...     BenzingaStaffL   \n",
      "1379680  https://www.benzinga.com/analyst-ratings/price...          Joe Young   \n",
      "1379681  https://www.benzinga.com/news/ipos/11/05/10789...      Allie Wickman   \n",
      "\n",
      "              date stock        Open        High         Low       Close  \\\n",
      "0       2020-06-05     A  122.225502  124.432503  121.856499  124.150002   \n",
      "1       2020-06-03     A  123.400497  124.400002  123.058502  123.919998   \n",
      "2       2020-05-26     A  122.900002  123.099998  120.703003  121.093002   \n",
      "3       2020-05-22     A  122.750504  123.492500  121.506500  121.844002   \n",
      "4       2020-05-22     A  122.750504  123.492500  121.506500  121.844002   \n",
      "...            ...   ...         ...         ...         ...         ...   \n",
      "1379677 2011-08-29    ZX   10.141000   10.333500   10.127500   10.326500   \n",
      "1379678 2011-06-22    ZX    9.698000    9.760000    9.566000    9.581500   \n",
      "1379679 2011-06-21    ZX    9.415000    9.750000    9.356000    9.711500   \n",
      "1379680 2011-06-21    ZX    9.415000    9.750000    9.356000    9.711500   \n",
      "1379681 2011-05-12    ZX   10.211000   10.309500   10.031000   10.303500   \n",
      "\n",
      "          Adj Close    Volume  Dividends  Stock Splits    neg    neu    pos  \\\n",
      "0        124.150002  66128000        0.0           0.0  0.000  1.000  0.000   \n",
      "1        123.919998  53420000        0.0           0.0  0.000  1.000  0.000   \n",
      "2        121.093002  71364000        0.0           0.0  0.000  1.000  0.000   \n",
      "3        121.844002  57342000        0.0           0.0  0.000  1.000  0.000   \n",
      "4        121.844002  57342000        0.0           0.0  0.000  0.855  0.145   \n",
      "...             ...       ...        ...           ...    ...    ...    ...   \n",
      "1379677   10.326500  90220000        0.0           0.0  0.000  0.769  0.231   \n",
      "1379678    9.581500  62594000        0.0           0.0  0.333  0.490  0.176   \n",
      "1379679    9.711500  83652000        0.0           0.0  0.000  1.000  0.000   \n",
      "1379680    9.711500  83652000        0.0           0.0  0.000  1.000  0.000   \n",
      "1379681   10.303500  96000000        0.0           0.0  0.000  1.000  0.000   \n",
      "\n",
      "         compound sentiment_label  Daily Return  \n",
      "0          0.0000         neutral           NaN  \n",
      "1          0.0000         neutral     -0.185262  \n",
      "2          0.0000         neutral     -2.281307  \n",
      "3          0.0000         neutral      0.620184  \n",
      "4          0.2960        positive      0.000000  \n",
      "...           ...             ...           ...  \n",
      "1379677    0.2023        positive      9.130783  \n",
      "1379678   -0.3818        negative     -7.214447  \n",
      "1379679    0.0000         neutral      1.356782  \n",
      "1379680    0.0000         neutral      0.000000  \n",
      "1379681    0.0000         neutral      6.095866  \n",
      "\n",
      "[1379682 rows x 20 columns]\n",
      "Correlation Coefficient: 0.0027503923021024897\n"
     ]
    }
   ],
   "source": [
    "correlation_analysis = CorrelationAnalysis(data_with_returns)\n",
    "correlation_coefficient = correlation_analysis.calculate_correlation()\n",
    "\n",
    "# Output results\n",
    "print(data_with_returns)\n",
    "print(f\"Correlation Coefficient: {correlation_coefficient}\")"
   ]
  },
  {
   "cell_type": "code",
   "execution_count": null,
   "metadata": {},
   "outputs": [],
   "source": []
  }
 ],
 "metadata": {
  "kernelspec": {
   "display_name": ".venv",
   "language": "python",
   "name": "python3"
  },
  "language_info": {
   "codemirror_mode": {
    "name": "ipython",
    "version": 3
   },
   "file_extension": ".py",
   "mimetype": "text/x-python",
   "name": "python",
   "nbconvert_exporter": "python",
   "pygments_lexer": "ipython3",
   "version": "3.11.9"
  }
 },
 "nbformat": 4,
 "nbformat_minor": 2
}
